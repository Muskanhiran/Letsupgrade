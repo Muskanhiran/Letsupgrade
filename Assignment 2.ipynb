{
 "cells": [
  {
   "cell_type": "markdown",
   "metadata": {},
   "source": [
    "***Write a python program to remove empty list from list.***"
   ]
  },
  {
   "cell_type": "code",
   "execution_count": 2,
   "metadata": {},
   "outputs": [
    {
     "data": {
      "text/plain": [
       "['text', 'text2', 'moreText']"
      ]
     },
     "execution_count": 2,
     "metadata": {},
     "output_type": "execute_result"
    }
   ],
   "source": [
    "list1 = [[], [], [], [], [], 'text', 'text2', [], 'moreText']\n",
    "list2 = [e for e in list1 if e]\n",
    "list2"
   ]
  },
  {
   "cell_type": "markdown",
   "metadata": {},
   "source": [
    "***Write a python program to remove all duplicates words from a given sentence.***"
   ]
  },
  {
   "cell_type": "code",
   "execution_count": 3,
   "metadata": {},
   "outputs": [
    {
     "name": "stdout",
     "output_type": "stream",
     "text": [
      "Python is amazing and Java also\n"
     ]
    }
   ],
   "source": [
    "s = \"Python is amazing and Java is also amazing\"\n",
    "l = s.split() \n",
    "k = []\n",
    "for i in l:\n",
    "    if (s.count(i)>1 and (i not in k) or s.count(i)==1): \n",
    "        k.append(i) \n",
    "print(' '.join(k))"
   ]
  },
  {
   "cell_type": "markdown",
   "metadata": {},
   "source": [
    "***Write a Python program to find all occurrences of a character in the given string.***"
   ]
  },
  {
   "cell_type": "code",
   "execution_count": 5,
   "metadata": {},
   "outputs": [
    {
     "name": "stdout",
     "output_type": "stream",
     "text": [
      "Please enter your own String : muskan\n",
      "Please enter your own Character : k\n",
      "k  is Found at Position  4\n"
     ]
    }
   ],
   "source": [
    "str1 = input(\"Please enter your own String : \")\n",
    "ch = input(\"Please enter your own Character : \")\n",
    "\n",
    "for i in range(len(str1)):\n",
    "    if(str1[i] == ch ):\n",
    "        print(ch, \" is Found at Position \" , i + 1)"
   ]
  },
  {
   "cell_type": "code",
   "execution_count": null,
   "metadata": {},
   "outputs": [],
   "source": []
  }
 ],
 "metadata": {
  "kernelspec": {
   "display_name": "Python 3",
   "language": "python",
   "name": "python3"
  },
  "language_info": {
   "codemirror_mode": {
    "name": "ipython",
    "version": 3
   },
   "file_extension": ".py",
   "mimetype": "text/x-python",
   "name": "python",
   "nbconvert_exporter": "python",
   "pygments_lexer": "ipython3",
   "version": "3.7.6"
  }
 },
 "nbformat": 4,
 "nbformat_minor": 4
}
