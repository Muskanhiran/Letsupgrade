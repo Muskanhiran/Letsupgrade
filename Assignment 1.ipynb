{
 "cells": [
  {
   "cell_type": "markdown",
   "metadata": {},
   "source": [
    "### Assignment 1"
   ]
  },
  {
   "cell_type": "markdown",
   "metadata": {},
   "source": [
    "***Write a python program to print all Prime numbers in an interval.***"
   ]
  },
  {
   "cell_type": "code",
   "execution_count": 1,
   "metadata": {},
   "outputs": [
    {
     "name": "stdout",
     "output_type": "stream",
     "text": [
      "Prime no. between given intervals are 2 , 3 , 5 , 7 , 11 , 13 , 17 , 19 , "
     ]
    }
   ],
   "source": [
    "print(\"Prime no. between given intervals are\", end =\" \")\n",
    "for each in range(1,20):\n",
    "    if each > 1:\n",
    "        for i in range(2,each): \n",
    "            if each%i ==0:\n",
    "                break\n",
    "        else:\n",
    "             print(each, end =\" , \")   "
   ]
  },
  {
   "cell_type": "markdown",
   "metadata": {},
   "source": [
    "***Write a python program for factorial of a number.***"
   ]
  },
  {
   "cell_type": "code",
   "execution_count": 3,
   "metadata": {},
   "outputs": [
    {
     "name": "stdout",
     "output_type": "stream",
     "text": [
      "factorial of number is 120\n"
     ]
    }
   ],
   "source": [
    "factorial = 1\n",
    "for i in range(1,6):\n",
    "    factorial = factorial*i\n",
    "print(\"factorial of number is\", factorial)"
   ]
  },
  {
   "cell_type": "markdown",
   "metadata": {},
   "source": [
    "***Write a sum of n numbers by using the while loop.***"
   ]
  },
  {
   "cell_type": "code",
   "execution_count": 4,
   "metadata": {},
   "outputs": [
    {
     "name": "stdout",
     "output_type": "stream",
     "text": [
      "10\n"
     ]
    }
   ],
   "source": [
    "n =0 \n",
    "sum1 =0\n",
    "while n<5:\n",
    "    sum1 = sum1 + n\n",
    "    n = n+1\n",
    "print(sum1)"
   ]
  },
  {
   "cell_type": "code",
   "execution_count": null,
   "metadata": {},
   "outputs": [],
   "source": []
  }
 ],
 "metadata": {
  "kernelspec": {
   "display_name": "Python 3",
   "language": "python",
   "name": "python3"
  },
  "language_info": {
   "codemirror_mode": {
    "name": "ipython",
    "version": 3
   },
   "file_extension": ".py",
   "mimetype": "text/x-python",
   "name": "python",
   "nbconvert_exporter": "python",
   "pygments_lexer": "ipython3",
   "version": "3.7.6"
  }
 },
 "nbformat": 4,
 "nbformat_minor": 4
}
